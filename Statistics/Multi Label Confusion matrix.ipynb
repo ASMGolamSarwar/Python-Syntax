{
 "cells": [
  {
   "cell_type": "markdown",
   "metadata": {
    "tags": []
   },
   "source": [
    "### Confusion Matrix\n",
    "\n",
    "Ref : https://www.analyticsvidhya.com/blog/2020/04/confusion-matrix-machine-learning/"
   ]
  },
  {
   "cell_type": "markdown",
   "metadata": {},
   "source": [
    "<img src=\"image/Matrics.jpg\" width=\"250\">\n",
    "\n",
    "<img src=\"image/Formula.jpg\" width=\"500\">"
   ]
  },
  {
   "cell_type": "code",
   "execution_count": 3,
   "metadata": {},
   "outputs": [
    {
     "name": "stdout",
     "output_type": "stream",
     "text": [
      "input matrics shape correct\n",
      "[[0 3 0]\n",
      " [0 1 0]\n",
      " [0 0 2]]\n",
      "Class Name - Cat\n",
      "\t TP = 0 | FP = 3 | TN = 3 | FN = 0\n",
      "\t Accuracy  - 50.0%\n",
      "\t Precision - 0.0%\n",
      "\t Recall    - nan%\n",
      "\t F1=Score  - nan%\n",
      "Class Name - Dog\n",
      "\t TP = 1 | FP = 0 | TN = 2 | FN = 3\n",
      "\t Accuracy  - 50.0%\n",
      "\t Precision - 100.0%\n",
      "\t Recall    - 25.0%\n",
      "\t F1=Score  - 40.0%\n",
      "Class Name - Rabbit\n",
      "\t TP = 2 | FP = 0 | TN = 4 | FN = 0\n",
      "\t Accuracy  - 100.0%\n",
      "\t Precision - 100.0%\n",
      "\t Recall    - 100.0%\n",
      "\t F1=Score  - 100.0%\n"
     ]
    },
    {
     "name": "stderr",
     "output_type": "stream",
     "text": [
      "<ipython-input-3-287c395bd4f1>:40: RuntimeWarning: invalid value encountered in longlong_scalars\n",
      "  recall    = ((TP)/(TP+FN))*100\n",
      "<ipython-input-3-287c395bd4f1>:43: RuntimeWarning: divide by zero encountered in double_scalars\n",
      "  print('\\t F1=Score  - {}%'.format( round(2/(1/recall+1/precision),2)))\n"
     ]
    }
   ],
   "source": [
    "from sklearn.metrics import confusion_matrix\n",
    "import numpy as np\n",
    "\n",
    "# n_n = np.array([[2385,  4,   0,   1,   4],\n",
    "#                 [0   ,332,   0,   0,   1],\n",
    "#                 [0   ,  1, 908,   8,   0],\n",
    "#                 [0   ,  0,   0,1084,   9],\n",
    "#                 [12  ,  0,   0,   6,2053]])\n",
    "\n",
    "# _class = [\"Asphalt\", \"Concrete\", \"Grass\",'Tree','Building']\n",
    "\n",
    "# For Binary Classification matrics should follow these sequences\n",
    "##  [TP FP]\n",
    "##  [FN TN]\n",
    "\n",
    "from sklearn.metrics import confusion_matrix\n",
    "\n",
    "y_true = ['Cat', 'Dog', 'Rabbit', 'Cat', 'Cat', 'Rabbit']\n",
    "y_pred = ['Dog', 'Dog', 'Rabbit', 'Dog', 'Dog', 'Rabbit']\n",
    "\n",
    "_class=['Cat', 'Dog', 'Rabbit']\n",
    "\n",
    "n_n = confusion_matrix(y_true, y_pred, labels=['Cat', 'Dog', 'Rabbit'])\n",
    "\n",
    "\n",
    "if n_n.shape[0]==n_n.shape[1]:\n",
    "    print('input matrics shape correct')\n",
    "    print(n_n)\n",
    "    \n",
    "    for i in range(len(_class)):        \n",
    "        \n",
    "        print('Class Name - {}'.format(_class[i]))\n",
    "\n",
    "        TP = n_n[i,i]                                              ## Diagonal one\n",
    "        FP = n_n[i].sum() - TP                                     ## Same Row except TP \n",
    "        TN = n_n.sum() - n_n[i].sum() - n_n[:,i].sum() + n_n[i,i]\n",
    "        FN = n_n[:,i].sum() - TP                                   ## Same Column except TP\n",
    "\n",
    "        print('\\t TP = {} | FP = {} | TN = {} | FN = {}'.format(TP,FP,TN,FN))\n",
    "        print('\\t Accuracy  - {}%'.format( round(((TP+TN)/(TP+FP+TN+FN))*100,2)))\n",
    "        precision = ((TP)/(TP+FP))*100\n",
    "        print('\\t Precision - {}%'.format( precision ))\n",
    "\n",
    "        recall    = ((TP)/(TP+FN))*100\n",
    "        print('\\t Recall    - {}%'.format( recall ))\n",
    "\n",
    "        print('\\t F1=Score  - {}%'.format( round(2/(1/recall+1/precision),2)))"
   ]
  },
  {
   "cell_type": "code",
   "execution_count": 41,
   "metadata": {},
   "outputs": [
    {
     "data": {
      "text/plain": [
       "array([12,  7,  1])"
      ]
     },
     "execution_count": 41,
     "metadata": {},
     "output_type": "execute_result"
    }
   ],
   "source": [
    "# 2nd column of\n",
    "X[:,0]"
   ]
  },
  {
   "cell_type": "code",
   "execution_count": 35,
   "metadata": {},
   "outputs": [
    {
     "data": {
      "text/plain": [
       "array([7, 6, 8, 8])"
      ]
     },
     "execution_count": 35,
     "metadata": {},
     "output_type": "execute_result"
    }
   ],
   "source": [
    "# 2nd column of\n",
    "X[1]"
   ]
  },
  {
   "cell_type": "code",
   "execution_count": null,
   "metadata": {},
   "outputs": [],
   "source": []
  }
 ],
 "metadata": {
  "kernelspec": {
   "display_name": "Python 3",
   "language": "python",
   "name": "python3"
  },
  "language_info": {
   "codemirror_mode": {
    "name": "ipython",
    "version": 3
   },
   "file_extension": ".py",
   "mimetype": "text/x-python",
   "name": "python",
   "nbconvert_exporter": "python",
   "pygments_lexer": "ipython3",
   "version": "3.8.5"
  }
 },
 "nbformat": 4,
 "nbformat_minor": 4
}
